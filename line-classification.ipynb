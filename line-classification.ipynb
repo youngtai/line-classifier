{
 "cells": [
  {
   "cell_type": "code",
   "execution_count": 65,
   "metadata": {},
   "outputs": [],
   "source": [
    "def parse_bbox_string(rect):\n",
    "    rect_split = rect.split(',')\n",
    "    x = int(rect_split[0])\n",
    "    y = int(rect_split[1])\n",
    "    w = int(rect_split[2])\n",
    "    h = int(rect_split[3])\n",
    "    return {'x1': x, 'y1': y, 'x2': x + w, 'y2': y + h}\n",
    "\n",
    "def get_text(token):\n",
    "    if 'position' not in token or token['position'] == 'B' or token['position'] == 'U':\n",
    "        if 'type' in token:\n",
    "            return token['type']\n",
    "        elif 'original' in token:\n",
    "            return token['original'].lower()\n",
    "        elif 'text' in token:\n",
    "            return token['text'].lower()\n",
    "    else:\n",
    "        return None\n",
    "\n",
    "def get_entity_text(json):\n",
    "    regions = json['regions']\n",
    "    pageWidth = json['pages'][0]['pageWidth']\n",
    "    pageHeight = json['pages'][0]['pageHeight']\n",
    "    text_lines = []\n",
    "    for region in regions:\n",
    "        if region['type'] == 'PARAGRAPH':\n",
    "            for line in region['lines']:\n",
    "                line_bbox = parse_bbox_string(line['rect'])\n",
    "                # record bbox as x1, y1, x2, y2 percentage coordinates\n",
    "                line_data = {'bbox': [line_bbox['x1'] / pageWidth, line_bbox['y1'] / pageHeight, line_bbox['x2'] / pageWidth, line_bbox['y2'] / pageHeight]}\n",
    "                \n",
    "                line_data['text'] = []\n",
    "                for token in line['tokens']:\n",
    "                    token_text = get_text(token)\n",
    "                    if token_text is not None:\n",
    "                        line_data['text'].append(token_text)\n",
    "                if len(line_data['text']) > 0:\n",
    "                    text_lines.append(line_data)\n",
    "    return text_lines"
   ]
  },
  {
   "cell_type": "code",
   "execution_count": 55,
   "metadata": {},
   "outputs": [],
   "source": [
    "def get_token_count(data):\n",
    "    count = 0\n",
    "    for line in data:\n",
    "        count += len(line['text'])\n",
    "    return count\n",
    "\n",
    "def text_only(data):\n",
    "    text_list = []\n",
    "    for line in data:\n",
    "        text_list.append(line['text'])\n",
    "    return text_list\n",
    "\n",
    "def text_and_bbox(data):\n",
    "    line_list = []\n",
    "    for line in data:\n",
    "        line_list.append([*line['bbox'],*line['text']])\n",
    "    return line_list\n",
    "\n",
    "def print_by_line(list):\n",
    "    for element in list:\n",
    "        print(element)"
   ]
  },
  {
   "cell_type": "code",
   "execution_count": 66,
   "metadata": {
    "tags": []
   },
   "outputs": [
    {
     "output_type": "stream",
     "name": "stdout",
     "text": [
      "Number of words: 15779\nNumber of image-stuff: 50\nAverage number of words per image-stuff: 315.58\nNumber of samples / Number of words per sample: 0.15953034267117605\n"
     ]
    }
   ],
   "source": [
    "import json\n",
    "from os import listdir\n",
    "from os.path import isfile, join\n",
    "\n",
    "IMAGE_STUFF_DIR = 'image-stuff/'\n",
    "image_stuff_file_list = [f for f in listdir(IMAGE_STUFF_DIR) if isfile(join(IMAGE_STUFF_DIR, f))]\n",
    "\n",
    "entity_texts = []\n",
    "total_word_count = 0\n",
    "for file in image_stuff_file_list:\n",
    "    with open(IMAGE_STUFF_DIR + file) as image_stuff:\n",
    "        image_stuff_json = json.load(image_stuff)\n",
    "    entity_text_list = get_entity_text(image_stuff_json)\n",
    "    entity_texts.append(entity_text_list)\n",
    "    total_word_count += get_token_count(entity_text_list)\n",
    "\n",
    "print('Number of words: ' + str(total_word_count))\n",
    "print('Number of image-stuff: ' + str(len(entity_texts)))\n",
    "print('Average number of words per image-stuff: ' + str(total_word_count / len(entity_texts)))\n",
    "print('Number of samples / Number of words per sample: ' + str(50 / 313.42))\n",
    "\n",
    "# I would need 500,000 samples to make it over 1500 and follow the other flows.\n",
    "# According to google, since (Number of samples / Number of words per sample) < 1500\n",
    "# Tokenize the text as n-grams and use a\n",
    "# simple multi-layer perceptron (MLP) model to classify them (left branch in the\n",
    "# flowchart below):\n",
    "#   a. Split the samples into word n-grams; convert the n-grams into vectors.\n",
    "#   b. Score the importance of the vectors and then select the top 20K using the scores.\n",
    "#   c. Build an MLP model."
   ]
  },
  {
   "cell_type": "code",
   "execution_count": 67,
   "metadata": {},
   "outputs": [
    {
     "output_type": "stream",
     "name": "stdout",
     "text": [
      "[{'bbox': [0.1278705636743215, 0.11868214152002995, 0.8580375782881002, 0.15761886933732686], 'text': ['STRUCTURE', 'STRUCTURE']}, {'bbox': [0.1714509394572025, 0.15761886933732686, 0.32724425887265135, 0.19880194683639085], 'text': ['DATE']}, {'bbox': [0.37447807933194155, 0.17521527517783603, 0.6056889352818372, 0.198427555222763], 'text': ['ficha', 'de', 'EVENT_VITAL']}, {'bbox': [0.6936325678496869, 0.16585548483713966, 0.7267745302713987, 0.2092849120179708], 'text': ['2']}, {'bbox': [0.7262526096033403, 0.18345189067764883, 0.7382567849686847, 0.18944215649569449], 'text': ['⌨']}, {'bbox': [0.7588726513569938, 0.16997379258704606, 0.8204592901878914, 0.20816173717708725], 'text': ['24']}, {'bbox': [0.8580375782881002, 0.16061400224634967, 0.8838726513569938, 0.19206289779108948], 'text': ['⌨']}, {'bbox': [0.7737473903966597, 0.19131411456383376, 0.8838726513569938, 0.2366154998128042], 'text': ['⌨', '⌨', '⌨', '⌨', '⌨']}, {'bbox': [0.12839248434237996, 0.2347435417446649, 0.4331941544885177, 0.26095095469861473], 'text': ['datos', 'del', 'que', 'se', 'bautiza', ':']}, {'bbox': [0.43032359081419624, 0.23624110819917635, 0.8791753653444676, 0.288655934107076], 'text': ['(', 'llenar', 'con', 'letras', 'y', 'numeros', 'lo', 'mas', 'claros', 'posibles', ')']}, {'bbox': [0.09133611691022965, 0.2927742418569824, 0.33846555323590816, 0.34369150131037063], 'text': ['apellidos', ':', 'PERSON']}, {'bbox': [0.0918580375782881, 0.3639086484462748, 0.5133089770354906, 0.4140771246724073], 'text': ['nombres', ':', 'PERSON', '⌨']}, {'bbox': [0.09003131524008351, 0.4477723698989143, 0.8588204592901879, 0.5117933358292774], 'text': ['número', 'de', 'documento', ':', '34779614', '.', 'EVENT_VITAL', 'el', 'DATE']}, {'bbox': [0.35177453027139877, 0.5189067764882067, 0.36221294363256784, 0.5252714339198802], 'text': ['⌨']}, {'bbox': [0.08846555323590814, 0.5286409584425309, 0.5127870563674322, 0.597903406963684], 'text': ['lugar', 'de', 'EVENT_VITAL', ':', 'h', '⌨', 'te', 'de', 'LOCALE']}, {'bbox': [0.5918580375782881, 0.5424934481467615, 0.8783924843423799, 0.5803070011231748], 'text': ['provincia', ':', 'PERSON', '.']}, {'bbox': [0.08950939457202506, 0.6140022463496818, 0.6889352818371608, 0.6821415200299513], 'text': ['nombres', 'y', 'apellidos', 'del', 'FAMILY_MEMBER', ':', 'PERSON']}, {'bbox': [0.08768267223382047, 0.685511044552602, 0.6918058455114823, 0.7394234369150131], 'text': ['nombres', 'y', 'apellidos', 'de', 'la', 'FAMILY_MEMBER', ':', 'PERSON']}, {'bbox': [0.087160751565762, 0.7364283040059902, 0.7693110647181628, 0.8315237738674653], 'text': ['nombres', 'y', 'apellidos', 'del', 'NONFAMILY', ':', 'PERSON']}, {'bbox': [0.784446764091858, 0.7776113815050543, 0.8744780793319415, 0.8244103332085362], 'text': ['✓']}, {'bbox': [0.785490605427975, 0.8318981654810932, 0.875, 0.8491201797079745], 'text': ['sigue', 'atras']}, {'bbox': [0.08481210855949896, 0.8539872706851367, 0.7698329853862212, 0.9172594533882441], 'text': ['nombres', 'y', 'apellidos', 'de', 'la', 'NONFAMILY', ':', 'PERSON']}, {'bbox': [0.7105949895615866, 0.8667165855484837, 0.7215553235908142, 0.879071508798203], 'text': ['⌨']}, {'bbox': [0.8272442588726514, 0.8745788094346687, 0.8575156576200418, 0.8959191314114564], 'text': ['✓']}, {'bbox': [0.7721816283924844, 0.8794459004118308, 0.8248956158663883, 0.9086484462748035], 'text': ['✓']}, {'bbox': [0.8447286012526096, 0.06102583302134032, 0.8650835073068893, 0.07600149756645451], 'text': ['⌨']}]\n"
     ]
    }
   ],
   "source": [
    "print(entity_texts[0])"
   ]
  },
  {
   "cell_type": "code",
   "execution_count": 68,
   "metadata": {},
   "outputs": [
    {
     "output_type": "stream",
     "name": "stdout",
     "text": [
      "['olavida']\n['⌨', 'PERSON']\n['no. 1468']\n['PERSON']\n['PERSON']\n['PERSON']\n['en', 'la', 'ORGANIZATION_RELIGIOUS', ',', 'en', 'LOCALE']\n['a', 'DATE']\n['fue', 'EVENT_VITAL', 'solemnemente', 'por', 'el', 'suscrito', 'párroco']\n['una', 'COREF_GENDER', 'que', 'EVENT_VITAL', 'en', 'LOCALE']\n['a', 'DATE']\n['a', 'COREF', 'llamó', 'PERSON']\n['y', 'PERSON']\n['FAMILY_MEMBER', ':', 'PERSON', 'y', 'PERSON']\n['FAMILY_MEMBER', ':', 'PERSON', 'y', 'PERSON']\n['⌨', '⌨', '⌨', '⌨']\n['fueron', 'NONFAMILY', ':', 'PERSON', 'PERSON', 'y', 'PERSON', 'PERSON']\n['⌨', '⌨', '⌨']\n['⌨', '⌨', '⌨', '⌨']\n['en', 'la', 'ORGANIZATION_RELIGIOUS', ',', 'en', 'l', 'DATE']\n['↔']\n['fue', 'EVENT_VITAL', 'solemnemente', 'por', 'el', 'suscrito', 'OCCUPATION']\n['un', 'COREF_GENDER', 'que', 'EVENT_VITAL', 'en', 'LOCALE']\n['el', 'DATE']\n['-']\n['a', 'COREF', 'llamó', 'PERSON']\n['FAMILY_MEMBER']\n['de', 'PERSON', 'y', 'PERSON']\n['↔']\n['FAMILY_MEMBER', ':', 'PERSON', 'y', 'PERSON']\n['FAMILY_MEMBER', ':', 'PERSON', 'y', 'PERSON']\n['fueron', 'NONFAMILY', ':', 'PERSON', 'PERSON']\n['⌨']\n['⎨']\n['do', 'y', '⌨', '⌨', '⌨', '⌨', '⌨', '⌨', '⌨', '⌨', '⌨', '⌨', '⌨', '⌨']\n['⌨', '⌨', '⌨', '⌨']\n['✍']\n['OCCUPATION', '✍']\n['DATE_NONSPECIFIC']\n['↔']\n['en', 'la', 'ORGANIZATION_RELIGIOUS', ',', 'en', 'la', 'DATE']\n['↔']\n['fue', 'EVENT_VITAL', 'solemnemente', 'por', 'el', 'suscrito', 'OCCUPATION']\n['un', 'COREF_GENDER', 'que', 'EVENT_VITAL', 'en', 'LOCALE']\n['e', 'DATE']\n['a', 'COREF', 'llamó', 'PERSON']\n['FAMILY_MEMBER']\n['de', 'PERSON', 'y', 'PERSON']\n['⌨']\n['FAMILY_MEMBER', ':', 'PERSON', 'y', 'PERSON']\n['FAMILY_MEMBER', ':', 'PERSON', 'y', 'PERSON']\n['fueron', 'NONFAMILY', ':', 'PERSON', 'y', 'PERSON']\n['⌨', '⌨', '⌨', '⌨', '⌨', '⌨', '⌨', '⌨', '⌨', '⌨']\n['✓', 'párroco']\n['✓']\n['1']\n['✍']\n['✍']\n['✍']\n['a', 'cuatro']\n"
     ]
    }
   ],
   "source": [
    "print_by_line(text_only(entity_texts[5]))"
   ]
  },
  {
   "cell_type": "code",
   "execution_count": 69,
   "metadata": {},
   "outputs": [
    {
     "output_type": "stream",
     "name": "stdout",
     "text": [
      "[0.3205162678139285, 0.07967032967032966, 0.3498252218338263, 0.08987441130298274, '✍']\n[0.1917182038182307, 0.10282574568288853, 0.4939499865555257, 0.13383045525902668, 'ORGANIZATION_RELIGIOUS', 'EVENT_VITAL', 'solemnemte']\n[0.1874159720354934, 0.1389324960753532, 0.4966388814197365, 0.18053375196232338, '', 'en', 'esta', 'COREF', 'parroquia', 'un', 'COREF_GENDER', ',', 'que', 'dijeron']\n[0.18311374025275612, 0.17032967032967034, 0.4939499865555257, 0.22684458398744112, '', 'haber', 'EVENT_VITAL', 'en', 'COREF_LOCATION', ',', 'a', 'las']\n[0.18714708254907234, 0.20172684458398743, 0.4920677601505781, 0.260989010989011, 'TIME', ',', 'FAMILY_MEMBER']\n[0.18714708254907234, 0.2382260596546311, 0.4829255176122614, 0.28532182103610676, 'de', 'PERSON', ',', 'EVENT_VITAL', 'LOCALE', ',', 'y']\n[0.18472707717128262, 0.2802197802197802, 0.5004033342296316, 0.31907378335949765, 'de', 'TITLE', 'PERSON', ',', 'OCCUPATION', ',', 'EVENT_VITAL']\n[0.17854261898359775, 0.3120094191522763, 0.4928744286098414, 0.37990580847723704, 'y', 'NONFAMILY', 'de', 'LOCALE', ',', 'se', 'COREF', 'puso', 'por']\n[0.44608765797257327, 0.3359497645211931, 0.4603388007528906, 0.34654631083202514, 'QUANTITY']\n[0.18096262436138746, 0.3536106750392465, 0.4961011024468943, 0.3963893249607535, 'nombre', 'PERSON', ':', 'FAMILY_MEMBER']\n[0.1774670610379134, 0.39285714285714285, 0.4928744286098414, 0.4434850863422292, 'PERSON', 'y', 'PERSON', ',', 'EVENT_VITAL', 'y']\n[0.17719817155149234, 0.42464678178963894, 0.4840010755579457, 0.46781789638932497, 'NONFAMILY', 'PERSON', ':', 'FAMILY_MEMBER', 'PERSON', ',', 'y']\n[0.17558483463296584, 0.4638932496075353, 0.4920677601505781, 0.5125588697017268, 'PERSON', ',', 'EVENT_VITAL', 'NONFAMILY', 'de', 'LOCALE']\n[0.1774670610379134, 0.4870486656200942, 0.49421887604194675, 0.5521978021978022, 'natural', 'aquel', 'de', 'COREF_LOCATION', 'y', 'esta', 'de', 'PERSON']\n[0.16993815541812315, 0.5208006279434851, 0.4990588867975262, 0.598116169544741, 'ptona', 'fue', 'COREF', 'NONFAMILY', 'PERSON']\n[0.4829255176122614, 0.5451334379905809, 0.49852110782468406, 0.554945054945055, '✓']\n[0.17477816617370262, 0.5737833594976453, 0.49529443398763107, 0.6248037676609105, 'COREF_GENDER', ',', 'natural', 'y', 'residente', 'en', 'LOCALE', ',']\n[0.22102715783812854, 0.5812401883830455, 0.23904275342834094, 0.6000784929356358, '✓']\n[0.1780048400107556, 0.609497645211931, 0.4928744286098414, 0.6805337519623234, 'a', 'COREF', 'advertí', 'la', 'cognación', 'espiritual', 'y']\n[0.17558483463296584, 0.6393249607535322, 0.4977144393654208, 0.7142857142857143, 'obligación', 'y', 'firmé', 'LOCALE', ',']\n[0.1704759343909653, 0.7032967032967034, 0.4966388814197365, 0.7535321821036107, 'DATE']\n[0.17666039257865018, 0.7382260596546311, 0.49152998117773594, 0.7912087912087912, 'COREF', 'el', 'info', 'OCCUPATION', 'de', 'ORGANIZATION_RELIGIOUS']\n[0.17612261360580803, 0.7704081632653061, 0.4891099757999462, 0.8065149136577708, 'EVENT_VITAL', 'solemnemente', 'en']\n[0.17612261360580803, 0.8014128728414442, 0.49583221296047325, 0.8547880690737834, 'esta', 'COREF', 'parroquia', 'un', 'COREF_GENDER', ',', 'que', 'dijeron', 'haber']\n[0.17289593976875503, 0.8496860282574569, 0.4928744286098414, 0.8897174254317112, '', 'EVENT_VITAL', 'a', 'las', 'TIME', '-']\n[0.7157838128529175, 0.0890894819466248, 0.7305727346060769, 0.0989010989010989, '4']\n[0.5732723850497445, 0.09968602825745683, 0.8841086313525142, 0.14678178963893249, 'dugada', ',', 'FAMILY_MEMBER', 'de', 'PERSON', ',']\n[0.5676257058349019, 0.12794348508634223, 0.8781930626512503, 0.17425431711145997, 'EVENT_VITAL', 'LOCALE', ',', 'y', 'de', 'PERSON', ',']\n[0.5673568163484808, 0.1640502354788069, 0.8811508470018822, 0.2087912087912088, 'consentes', ',', 'natural', 'y', 'NONFAMILY', 'de', 'LOCALE', ',', 'mu']\n[0.574885721968271, 0.19034536891679749, 0.8717397149771444, 0.24411302982731553, '⌨', '⌨', '⌨', '⌨', 's', 'se', 'COREF', 'puso', 'por', 'nombre', 'PERSON', ':', 'FAMILY_MEMBER']\n[0.561441247647217, 0.22959183673469388, 0.614681365958591, 0.25902668759811615, '⌨', '⌨', '⌨', '⌨']\n[0.5619790266200592, 0.21821036106750394, 0.8859908577574617, 0.29120879120879123, 'NONFAMILY', 'PERSON', 'y', 'PERSON', ',', 'áqs', 'EVENT_VITAL']\n[0.5643990319978489, 0.25039246467817894, 0.8854530787846195, 0.33084772370486654, 'y', 'NONFAMILY', 'de', 'PERSON', ',', 'y', 'PERSON']\n[0.5673568163484808, 0.29199372056514916, 0.88061306802904, 0.3445839874411303, ',', 'difa', 'EVENT_VITAL', 'y', 'NONFAMILY']\n[0.5668190373756387, 0.3202511773940345, 0.8811508470018822, 0.37755102040816324, 'de', 'LOCALE', ',', 'de', 'que', 'es', 'natural', 'y', 'residen', '-']\n[0.6770637268082818, 0.35714285714285715, 0.8755041677870395, 0.3940345368916798, 'PERSON', ',', 'COREF_GENDER', ',', 'a']\n[0.5587523527830062, 0.3850078492935636, 0.8730841624092498, 0.47331240188383045, 'COREF', 'advertí', 'la', 'cogn', 'espiritual', 'y', 'obligaciones', 'y']\n[0.5643990319978489, 0.3893249607535322, 0.6781392847539661, 0.41365777080062793, 'te', 'la', 'NONFAMILY']\n[0.5533745630545845, 0.42857142857142855, 0.8542618983597742, 0.5117739403453689, 'primero', 'PERSON']\n[0.6187147082549073, 0.4430926216640502, 0.6372680828179618, 0.4489795918367347, '✍']\n[0.6940037644528099, 0.4638932496075353, 0.7598816886259747, 0.4854788069073783, 'OCCUPATION']\n[0.5638612530250067, 0.49686028257456827, 0.8822264049475665, 0.5416012558869702, 'DATE']\n[0.5619790266200592, 0.5164835164835165, 0.8822264049475665, 0.5773155416012559, 'OCCUPATION', 'de', 'ORGANIZATION_RELIGIOUS']\n[0.5619790266200592, 0.5400313971742543, 0.8824952944339877, 0.6020408163265306, 'EVENT_VITAL', 'solemnemente', 'en', 'esta', 'COREF', 'parroquia']\n[0.5587523527830062, 0.5753532182103611, 0.8698574885721968, 0.6565934065934066, '', 'un', 'COREF_GENDER', ',', 'que', 'dijeron', 'haber', 'EVENT_VITAL']\n[0.5587523527830062, 0.6055729984301413, 0.88061306802904, 0.6722919937205651, 'en', 'COREF_LOCATION', 'a', 'las', 'TIME', ',']\n[0.5576767948373219, 0.6263736263736264, 0.8811508470018822, 0.7127158555729984, 'FAMILY_MEMBER', 'de', 'PERSON', ',', 'EVENT_VITAL']\n[0.558214573810164, 0.6722919937205651, 0.8781930626512503, 0.7543171114599686, ',', 'y', 'de', 'PERSON', ',', 'COREF', 'COREF_GENDER', ',', 'natural']\n[0.5568701263780587, 0.6938775510204082, 0.8792686205969347, 0.7813971742543171, '', 'y', 'NONFAMILY', 'de', 'LOCALE', ',', 'COREF', 'feligreses', 'de']\n[0.5592901317558483, 0.7291993720565149, 0.8841086313525142, 0.82574568288854, 'COREF', 'puso', 'por', 'nombre', 'PERSON', ':', 'FAMILY_MEMBER', 'pal', '.', 'PERSON']\n[0.578112395805324, 0.7786499215070644, 0.8822264049475665, 0.8567503924646782, 'y', 'PERSON', 'de', 'EVENT_VITAL', 'y', 'vecinos']\n[0.5555256789459532, 0.8284929356357927, 0.5867168593707986, 0.8457613814756672, 'rio']\n[0.5576767948373219, 0.8175039246467818, 0.8792686205969347, 0.8791208791208791, 'de', 'LOCALE', '.', 'FAMILY_MEMBER', 'PERSON', 'y', 'PERSON']\n[0.5544501210002689, 0.8677394034536892, 0.8763108362463028, 0.9266091051805337, 'y', 'ala', ',', 'EVENT_VITAL', 'y', 'NONFAMILY', 'de', 'LOCALE', ',']\n"
     ]
    }
   ],
   "source": [
    "print_by_line(text_and_bbox(entity_texts[6]))"
   ]
  },
  {
   "cell_type": "code",
   "execution_count": null,
   "metadata": {},
   "outputs": [],
   "source": [
    "#1. Make N-grams\n",
    "#2. Vectorize the N-grams"
   ]
  }
 ],
 "metadata": {
  "kernelspec": {
   "name": "python394jvsc74a57bd0365f08ed45d0f4c825d103671aad382aaf467f1c51c58bde164d0dad80ff8371",
   "display_name": "Python 3.9.4 64-bit ('line-classifier': conda)"
  },
  "language_info": {
   "codemirror_mode": {
    "name": "ipython",
    "version": 3
   },
   "file_extension": ".py",
   "mimetype": "text/x-python",
   "name": "python",
   "nbconvert_exporter": "python",
   "pygments_lexer": "ipython3",
   "version": "3.9.4"
  },
  "metadata": {
   "interpreter": {
    "hash": "365f08ed45d0f4c825d103671aad382aaf467f1c51c58bde164d0dad80ff8371"
   }
  }
 },
 "nbformat": 4,
 "nbformat_minor": 4
}